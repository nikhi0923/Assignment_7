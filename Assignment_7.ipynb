{
 "cells": [
  {
   "cell_type": "code",
   "execution_count": 1,
   "id": "7ff884a1",
   "metadata": {},
   "outputs": [
    {
     "name": "stdout",
     "output_type": "stream",
     "text": [
      "First variable is 10 & second variable is 5.\n",
      "Addition: 10 + 5 = 15\n",
      "Subtraction: 10 - 5 = 5\n",
      "Multiplication: 10 * 5 = 50\n",
      "Division: 10 / 5 = 2.0\n"
     ]
    }
   ],
   "source": [
    "#1\n",
    "# Create two integer variables\n",
    "first_variable = 10\n",
    "second_variable = 5\n",
    "\n",
    "# Perform arithmetic operations\n",
    "addition_result = first_variable + second_variable\n",
    "subtraction_result = first_variable - second_variable\n",
    "multiplication_result = first_variable * second_variable\n",
    "division_result = first_variable / second_variable\n",
    "\n",
    "# Print the results\n",
    "print(f\"First variable is {first_variable} & second variable is {second_variable}.\")\n",
    "print(f\"Addition: {first_variable} + {second_variable} = {addition_result}\")\n",
    "print(f\"Subtraction: {first_variable} - {second_variable} = {subtraction_result}\")\n",
    "print(f\"Multiplication: {first_variable} * {second_variable} = {multiplication_result}\")\n",
    "print(f\"Division: {first_variable} / {second_variable} = {division_result}\")\n"
   ]
  },
  {
   "cell_type": "markdown",
   "id": "f32f2944",
   "metadata": {},
   "source": [
    "2.\n",
    "/ Operator: The / operator is used for division. It performs regular division and returns a floating-point result. For example, 10 / 3 would give you 3.333....\n",
    "\n",
    "// Operator: The // operator is used for floor division (also known as integer division). It divides two numbers and returns the largest integer that is less than or equal to the result. For example, 10 // 3 would give you 3."
   ]
  },
  {
   "cell_type": "markdown",
   "id": "0c3c457c",
   "metadata": {},
   "source": [
    "(ii) '' and '^' operators:**\n",
    "\n",
    "** Operator: The ** operator is used for exponentiation. It raises the left operand to the power of the right operand. For example, 2 ** 3 gives you 8 (2 raised to the power of 3).\n",
    "\n",
    "^ Operator: The ^ operator is the bitwise XOR (exclusive OR) operator. It performs bitwise XOR operation between the binary representations of two integers. It's not used for exponentiation. For example, 5 ^ 3 would perform a bitwise XOR operation on the binary representations of 5 and 3."
   ]
  },
  {
   "cell_type": "markdown",
   "id": "8e34b884",
   "metadata": {},
   "source": [
    "3.Logical Operators:\n",
    "The logical operators in Python are used to perform logical operations on Boolean values. Here is a list of the logical operators in Python:\n",
    "\n",
    "and: Returns True if both operands are True.\n",
    "or: Returns True if at least one operand is True.\n",
    "not: Returns the opposite Boolean value of the operand."
   ]
  },
  {
   "cell_type": "code",
   "execution_count": 3,
   "id": "a8e0fb6f",
   "metadata": {},
   "outputs": [],
   "source": [
    "x = True\n",
    "y = False\n",
    "\n",
    "result_and = x and y  # False\n",
    "result_or = x or y    # True\n",
    "result_not = not x    # False\n"
   ]
  },
  {
   "cell_type": "markdown",
   "id": "685281e3",
   "metadata": {},
   "source": [
    "4.In the right shift operation, the leftmost bits are filled with the same value as the sign bit (in case of signed integers) or with zeros (in case of unsigned integers). This effectively divides the number by 2 raised to the power of the shift amount."
   ]
  },
  {
   "cell_type": "code",
   "execution_count": 4,
   "id": "040c980d",
   "metadata": {},
   "outputs": [
    {
     "name": "stdout",
     "output_type": "stream",
     "text": [
      "4\n"
     ]
    }
   ],
   "source": [
    "# Using the right shift operator in Python\n",
    "num = 16  # Binary: 10000\n",
    "shift_amount = 2\n",
    "result = num >> shift_amount  # Shift right by 2 positions\n",
    "\n",
    "print(result)  \n"
   ]
  },
  {
   "cell_type": "markdown",
   "id": "c345e0d8",
   "metadata": {},
   "source": [
    "In the left shift operation, zeros are filled in from the right, and the bits that are shifted out on the left are discarded.\n",
    "\n"
   ]
  },
  {
   "cell_type": "code",
   "execution_count": 5,
   "id": "eb9d187d",
   "metadata": {},
   "outputs": [
    {
     "name": "stdout",
     "output_type": "stream",
     "text": [
      "64\n"
     ]
    }
   ],
   "source": [
    "num = 16  # Binary: 10000\n",
    "shift_amount = 2\n",
    "result = num << shift_amount  # Shift left by 2 positions\n",
    "\n",
    "print(result)  \n"
   ]
  },
  {
   "cell_type": "code",
   "execution_count": 8,
   "id": "56a26d53",
   "metadata": {},
   "outputs": [
    {
     "name": "stdout",
     "output_type": "stream",
     "text": [
      "10 is present in the list.\n"
     ]
    }
   ],
   "source": [
    "#5\n",
    "# Create a list of integers\n",
    "num_list = [5, 8, 10, 15, 20, 25, 30, 35, 40, 45, 50, 55, 60, 65, 70]\n",
    "\n",
    "# Check if 10 is present in the list\n",
    "if 10 in num_list:\n",
    "    print(\"10 is present in the list.\")\n",
    "else:\n",
    "    print(\"10 is not present in the list.\")\n"
   ]
  },
  {
   "cell_type": "code",
   "execution_count": null,
   "id": "05c3790a",
   "metadata": {},
   "outputs": [],
   "source": []
  },
  {
   "cell_type": "code",
   "execution_count": null,
   "id": "cc896414",
   "metadata": {},
   "outputs": [],
   "source": []
  }
 ],
 "metadata": {
  "kernelspec": {
   "display_name": "Python 3 (ipykernel)",
   "language": "python",
   "name": "python3"
  },
  "language_info": {
   "codemirror_mode": {
    "name": "ipython",
    "version": 3
   },
   "file_extension": ".py",
   "mimetype": "text/x-python",
   "name": "python",
   "nbconvert_exporter": "python",
   "pygments_lexer": "ipython3",
   "version": "3.10.9"
  }
 },
 "nbformat": 4,
 "nbformat_minor": 5
}
